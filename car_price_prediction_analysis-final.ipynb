{
  "cells": [
    {
      "cell_type": "markdown",
      "source": [
        "Car price prediction"
      ],
      "metadata": {
        "id": "WhuCryd11wIS"
      },
      "id": "WhuCryd11wIS"
    },
    {
      "cell_type": "markdown",
      "id": "5ed4ee46",
      "metadata": {
        "papermill": {
          "duration": 0.012615,
          "end_time": "2024-04-19T16:13:20.976334",
          "exception": false,
          "start_time": "2024-04-19T16:13:20.963719",
          "status": "completed"
        },
        "tags": [],
        "id": "5ed4ee46"
      },
      "source": [
        "# <span style=\"color: #000000;\">Step 1|</span> <span style=\"color: orange; font-weight: bold;\">Import Libraries</span>\n"
      ]
    },
    {
      "cell_type": "code",
      "execution_count": null,
      "id": "52b993a0",
      "metadata": {
        "execution": {
          "iopub.execute_input": "2024-04-19T16:13:21.005213Z",
          "iopub.status.busy": "2024-04-19T16:13:21.004565Z",
          "iopub.status.idle": "2024-04-19T16:13:24.580358Z",
          "shell.execute_reply": "2024-04-19T16:13:24.578611Z"
        },
        "papermill": {
          "duration": 3.594231,
          "end_time": "2024-04-19T16:13:24.583642",
          "exception": false,
          "start_time": "2024-04-19T16:13:20.989411",
          "status": "completed"
        },
        "tags": [],
        "id": "52b993a0"
      },
      "outputs": [],
      "source": [
        "import numpy as np\n",
        "import pandas as pd\n",
        "import matplotlib.pyplot as plt\n",
        "import seaborn as sns\n",
        "import plotly.express as px\n",
        "from sklearn.model_selection import train_test_split\n",
        "from sklearn.linear_model import LinearRegression\n",
        "from sklearn.metrics import mean_squared_error, r2_score\n",
        "import warnings\n",
        "warnings.filterwarnings(\"ignore\")"
      ]
    },
    {
      "cell_type": "markdown",
      "id": "3ec1c18f",
      "metadata": {
        "papermill": {
          "duration": 0.013376,
          "end_time": "2024-04-19T16:13:24.610321",
          "exception": false,
          "start_time": "2024-04-19T16:13:24.596945",
          "status": "completed"
        },
        "tags": [],
        "id": "3ec1c18f"
      },
      "source": [
        "# <span style=\"color: #000000;\">Step 2:</span> <span style=\"color: orange; font-weight: bold;\">Import Dataset</span>"
      ]
    },
    {
      "cell_type": "code",
      "execution_count": null,
      "id": "00d246f3",
      "metadata": {
        "execution": {
          "iopub.execute_input": "2024-04-19T16:13:24.640007Z",
          "iopub.status.busy": "2024-04-19T16:13:24.638176Z",
          "iopub.status.idle": "2024-04-19T16:13:24.675081Z",
          "shell.execute_reply": "2024-04-19T16:13:24.673981Z"
        },
        "papermill": {
          "duration": 0.05444,
          "end_time": "2024-04-19T16:13:24.678029",
          "exception": false,
          "start_time": "2024-04-19T16:13:24.623589",
          "status": "completed"
        },
        "tags": [],
        "id": "00d246f3"
      },
      "outputs": [],
      "source": [
        "df = pd.read_csv('/kaggle/input/car-price-predictionused-cars/car data.csv')"
      ]
    },
    {
      "cell_type": "markdown",
      "id": "f8fb7346",
      "metadata": {
        "papermill": {
          "duration": 0.01272,
          "end_time": "2024-04-19T16:13:24.705043",
          "exception": false,
          "start_time": "2024-04-19T16:13:24.692323",
          "status": "completed"
        },
        "tags": [],
        "id": "f8fb7346"
      },
      "source": [
        "# <span style=\"color: #000000;\">Step 3 |</span> <span style=\"color: orange; font-weight: bold;\">Exploratory Data Analysis</span>"
      ]
    },
    {
      "cell_type": "code",
      "execution_count": null,
      "id": "a5d0eb2d",
      "metadata": {
        "execution": {
          "iopub.execute_input": "2024-04-19T16:13:24.761229Z",
          "iopub.status.busy": "2024-04-19T16:13:24.760340Z",
          "iopub.status.idle": "2024-04-19T16:13:24.790971Z",
          "shell.execute_reply": "2024-04-19T16:13:24.789471Z"
        },
        "papermill": {
          "duration": 0.051103,
          "end_time": "2024-04-19T16:13:24.795943",
          "exception": false,
          "start_time": "2024-04-19T16:13:24.744840",
          "status": "completed"
        },
        "tags": [],
        "id": "a5d0eb2d",
        "outputId": "e68a4b45-45df-48e7-9382-3645b196f00c"
      },
      "outputs": [
        {
          "name": "stdout",
          "output_type": "stream",
          "text": [
            " First few rows of the dataset:\n"
          ]
        },
        {
          "data": {
            "text/html": [
              "<div>\n",
              "<style scoped>\n",
              "    .dataframe tbody tr th:only-of-type {\n",
              "        vertical-align: middle;\n",
              "    }\n",
              "\n",
              "    .dataframe tbody tr th {\n",
              "        vertical-align: top;\n",
              "    }\n",
              "\n",
              "    .dataframe thead th {\n",
              "        text-align: right;\n",
              "    }\n",
              "</style>\n",
              "<table border=\"1\" class=\"dataframe\">\n",
              "  <thead>\n",
              "    <tr style=\"text-align: right;\">\n",
              "      <th></th>\n",
              "      <th>Car_Name</th>\n",
              "      <th>Year</th>\n",
              "      <th>Selling_Price</th>\n",
              "      <th>Present_Price</th>\n",
              "      <th>Driven_kms</th>\n",
              "      <th>Fuel_Type</th>\n",
              "      <th>Selling_type</th>\n",
              "      <th>Transmission</th>\n",
              "      <th>Owner</th>\n",
              "    </tr>\n",
              "  </thead>\n",
              "  <tbody>\n",
              "    <tr>\n",
              "      <th>0</th>\n",
              "      <td>ritz</td>\n",
              "      <td>2014</td>\n",
              "      <td>3.35</td>\n",
              "      <td>5.59</td>\n",
              "      <td>27000</td>\n",
              "      <td>Petrol</td>\n",
              "      <td>Dealer</td>\n",
              "      <td>Manual</td>\n",
              "      <td>0</td>\n",
              "    </tr>\n",
              "    <tr>\n",
              "      <th>1</th>\n",
              "      <td>sx4</td>\n",
              "      <td>2013</td>\n",
              "      <td>4.75</td>\n",
              "      <td>9.54</td>\n",
              "      <td>43000</td>\n",
              "      <td>Diesel</td>\n",
              "      <td>Dealer</td>\n",
              "      <td>Manual</td>\n",
              "      <td>0</td>\n",
              "    </tr>\n",
              "    <tr>\n",
              "      <th>2</th>\n",
              "      <td>ciaz</td>\n",
              "      <td>2017</td>\n",
              "      <td>7.25</td>\n",
              "      <td>9.85</td>\n",
              "      <td>6900</td>\n",
              "      <td>Petrol</td>\n",
              "      <td>Dealer</td>\n",
              "      <td>Manual</td>\n",
              "      <td>0</td>\n",
              "    </tr>\n",
              "    <tr>\n",
              "      <th>3</th>\n",
              "      <td>wagon r</td>\n",
              "      <td>2011</td>\n",
              "      <td>2.85</td>\n",
              "      <td>4.15</td>\n",
              "      <td>5200</td>\n",
              "      <td>Petrol</td>\n",
              "      <td>Dealer</td>\n",
              "      <td>Manual</td>\n",
              "      <td>0</td>\n",
              "    </tr>\n",
              "    <tr>\n",
              "      <th>4</th>\n",
              "      <td>swift</td>\n",
              "      <td>2014</td>\n",
              "      <td>4.60</td>\n",
              "      <td>6.87</td>\n",
              "      <td>42450</td>\n",
              "      <td>Diesel</td>\n",
              "      <td>Dealer</td>\n",
              "      <td>Manual</td>\n",
              "      <td>0</td>\n",
              "    </tr>\n",
              "  </tbody>\n",
              "</table>\n",
              "</div>"
            ],
            "text/plain": [
              "  Car_Name  Year  Selling_Price  Present_Price  Driven_kms Fuel_Type  \\\n",
              "0     ritz  2014           3.35           5.59       27000    Petrol   \n",
              "1      sx4  2013           4.75           9.54       43000    Diesel   \n",
              "2     ciaz  2017           7.25           9.85        6900    Petrol   \n",
              "3  wagon r  2011           2.85           4.15        5200    Petrol   \n",
              "4    swift  2014           4.60           6.87       42450    Diesel   \n",
              "\n",
              "  Selling_type Transmission  Owner  \n",
              "0       Dealer       Manual      0  \n",
              "1       Dealer       Manual      0  \n",
              "2       Dealer       Manual      0  \n",
              "3       Dealer       Manual      0  \n",
              "4       Dealer       Manual      0  "
            ]
          },
          "execution_count": 3,
          "metadata": {},
          "output_type": "execute_result"
        }
      ],
      "source": [
        "print(\" First few rows of the dataset:\")\n",
        "df.head()"
      ]
    },
    {
      "cell_type": "code",
      "execution_count": null,
      "id": "90a727b1",
      "metadata": {
        "execution": {
          "iopub.execute_input": "2024-04-19T16:13:24.825188Z",
          "iopub.status.busy": "2024-04-19T16:13:24.824743Z",
          "iopub.status.idle": "2024-04-19T16:13:24.832013Z",
          "shell.execute_reply": "2024-04-19T16:13:24.830633Z"
        },
        "papermill": {
          "duration": 0.024521,
          "end_time": "2024-04-19T16:13:24.834471",
          "exception": false,
          "start_time": "2024-04-19T16:13:24.809950",
          "status": "completed"
        },
        "tags": [],
        "id": "90a727b1",
        "outputId": "77868d65-9e2f-4296-90e4-ac6f9ba52432"
      },
      "outputs": [
        {
          "data": {
            "text/plain": [
              "Index(['Car_Name', 'Year', 'Selling_Price', 'Present_Price', 'Driven_kms',\n",
              "       'Fuel_Type', 'Selling_type', 'Transmission', 'Owner'],\n",
              "      dtype='object')"
            ]
          },
          "execution_count": 4,
          "metadata": {},
          "output_type": "execute_result"
        }
      ],
      "source": [
        "df.columns"
      ]
    },
    {
      "cell_type": "code",
      "execution_count": null,
      "id": "c4f0c9c2",
      "metadata": {
        "execution": {
          "iopub.execute_input": "2024-04-19T16:13:24.865036Z",
          "iopub.status.busy": "2024-04-19T16:13:24.864631Z",
          "iopub.status.idle": "2024-04-19T16:13:24.872476Z",
          "shell.execute_reply": "2024-04-19T16:13:24.870729Z"
        },
        "papermill": {
          "duration": 0.027135,
          "end_time": "2024-04-19T16:13:24.875176",
          "exception": false,
          "start_time": "2024-04-19T16:13:24.848041",
          "status": "completed"
        },
        "tags": [],
        "id": "c4f0c9c2",
        "outputId": "5bd64efd-955f-4d1c-80da-b1bc68d569f5"
      },
      "outputs": [
        {
          "data": {
            "text/plain": [
              "(301, 9)"
            ]
          },
          "execution_count": 5,
          "metadata": {},
          "output_type": "execute_result"
        }
      ],
      "source": [
        "df.shape"
      ]
    },
    {
      "cell_type": "code",
      "execution_count": null,
      "id": "29a0aacb",
      "metadata": {
        "execution": {
          "iopub.execute_input": "2024-04-19T16:13:25.171707Z",
          "iopub.status.busy": "2024-04-19T16:13:25.171321Z",
          "iopub.status.idle": "2024-04-19T16:13:25.181823Z",
          "shell.execute_reply": "2024-04-19T16:13:25.180330Z"
        },
        "papermill": {
          "duration": 0.029199,
          "end_time": "2024-04-19T16:13:25.184881",
          "exception": false,
          "start_time": "2024-04-19T16:13:25.155682",
          "status": "completed"
        },
        "tags": [],
        "id": "29a0aacb",
        "outputId": "e1c08854-c8b5-4b44-9035-ab41ce67ee01"
      },
      "outputs": [
        {
          "name": "stdout",
          "output_type": "stream",
          "text": [
            "Missing Values:\n"
          ]
        },
        {
          "data": {
            "text/plain": [
              "Car_Name         0\n",
              "Year             0\n",
              "Selling_Price    0\n",
              "Present_Price    0\n",
              "Driven_kms       0\n",
              "Fuel_Type        0\n",
              "Selling_type     0\n",
              "Transmission     0\n",
              "Owner            0\n",
              "dtype: int64"
            ]
          },
          "execution_count": 8,
          "metadata": {},
          "output_type": "execute_result"
        }
      ],
      "source": [
        "# Check Missing Values\n",
        "print('Missing Values:')\n",
        "df.isnull().sum()"
      ]
    },
    {
      "cell_type": "markdown",
      "id": "6e662223",
      "metadata": {
        "papermill": {
          "duration": 0.015235,
          "end_time": "2024-04-19T16:13:25.214978",
          "exception": false,
          "start_time": "2024-04-19T16:13:25.199743",
          "status": "completed"
        },
        "tags": [],
        "id": "6e662223"
      },
      "source": [
        "-  So we have no null values ,we are ready to go."
      ]
    },
    {
      "cell_type": "code",
      "execution_count": null,
      "id": "a149570a",
      "metadata": {
        "execution": {
          "iopub.execute_input": "2024-04-19T16:13:25.369240Z",
          "iopub.status.busy": "2024-04-19T16:13:25.367833Z",
          "iopub.status.idle": "2024-04-19T16:13:25.376322Z",
          "shell.execute_reply": "2024-04-19T16:13:25.374811Z"
        },
        "papermill": {
          "duration": 0.028366,
          "end_time": "2024-04-19T16:13:25.379112",
          "exception": false,
          "start_time": "2024-04-19T16:13:25.350746",
          "status": "completed"
        },
        "tags": [],
        "id": "a149570a",
        "outputId": "954ff7be-4df4-4ad0-8571-fdab921083f2"
      },
      "outputs": [
        {
          "name": "stdout",
          "output_type": "stream",
          "text": [
            " Data types of columns:\n",
            "Car_Name          object\n",
            "Year               int64\n",
            "Selling_Price    float64\n",
            "Present_Price    float64\n",
            "Driven_kms         int64\n",
            "Fuel_Type         object\n",
            "Selling_type      object\n",
            "Transmission      object\n",
            "Owner              int64\n",
            "dtype: object\n"
          ]
        }
      ],
      "source": [
        "# Data types of columns\n",
        "print(\" Data types of columns:\")\n",
        "print(df.dtypes)"
      ]
    },
    {
      "cell_type": "code",
      "execution_count": null,
      "id": "390a0103",
      "metadata": {
        "execution": {
          "iopub.execute_input": "2024-04-19T16:13:25.444859Z",
          "iopub.status.busy": "2024-04-19T16:13:25.444450Z",
          "iopub.status.idle": "2024-04-19T16:13:25.453849Z",
          "shell.execute_reply": "2024-04-19T16:13:25.452711Z"
        },
        "papermill": {
          "duration": 0.028667,
          "end_time": "2024-04-19T16:13:25.456125",
          "exception": false,
          "start_time": "2024-04-19T16:13:25.427458",
          "status": "completed"
        },
        "tags": [],
        "id": "390a0103",
        "outputId": "d260343b-4391-47a6-daf9-8f3cd941c783"
      },
      "outputs": [
        {
          "name": "stdout",
          "output_type": "stream",
          "text": [
            "Duplicate Values:\n"
          ]
        },
        {
          "data": {
            "text/plain": [
              "2"
            ]
          },
          "execution_count": 10,
          "metadata": {},
          "output_type": "execute_result"
        }
      ],
      "source": [
        "# check for duplicate values\n",
        "print('Duplicate Values:')\n",
        "df.duplicated().sum()"
      ]
    },
    {
      "cell_type": "markdown",
      "id": "0f2d2fa4",
      "metadata": {
        "papermill": {
          "duration": 0.015936,
          "end_time": "2024-04-19T16:13:25.567034",
          "exception": false,
          "start_time": "2024-04-19T16:13:25.551098",
          "status": "completed"
        },
        "tags": [],
        "id": "0f2d2fa4"
      },
      "source": [
        "# <span style=\"color: #000000;\">Step 4 |</span> <span style=\"color: orange; font-weight: bold;\">Data visualization and EDA</span>"
      ]
    },
    {
      "cell_type": "code",
      "execution_count": null,
      "id": "28323e97",
      "metadata": {
        "execution": {
          "iopub.execute_input": "2024-04-19T16:13:25.628753Z",
          "iopub.status.busy": "2024-04-19T16:13:25.628336Z",
          "iopub.status.idle": "2024-04-19T16:13:25.909739Z",
          "shell.execute_reply": "2024-04-19T16:13:25.908375Z"
        },
        "papermill": {
          "duration": 0.301185,
          "end_time": "2024-04-19T16:13:25.912664",
          "exception": false,
          "start_time": "2024-04-19T16:13:25.611479",
          "status": "completed"
        },
        "tags": [],
        "id": "28323e97",
        "outputId": "c829e2ff-09b1-45e3-cf71-b79823da6093"
      },
      "outputs": [
        {
          "data": {
            "image/png": "[encoded data removed]",
            "text/plain": [
              "<Figure size 1000x600 with 1 Axes>"
            ]
          },
          "metadata": {},
          "output_type": "display_data"
        }
      ],
      "source": [
        "# Check for outliers using boxplots\n",
        "plt.figure(figsize=(10, 6))\n",
        "sns.boxplot(df['Selling_Price'],palette='pastel')\n",
        "plt.title('Boxplot of Selling Price')\n",
        "plt.show()\n"
      ]
    },
    {
      "cell_type": "code",
      "execution_count": null,
      "id": "f096ba7e",
      "metadata": {
        "execution": {
          "iopub.execute_input": "2024-04-19T16:13:25.974716Z",
          "iopub.status.busy": "2024-04-19T16:13:25.974313Z",
          "iopub.status.idle": "2024-04-19T16:13:26.402769Z",
          "shell.execute_reply": "2024-04-19T16:13:26.401211Z"
        },
        "papermill": {
          "duration": 0.44819,
          "end_time": "2024-04-19T16:13:26.405646",
          "exception": false,
          "start_time": "2024-04-19T16:13:25.957456",
          "status": "completed"
        },
        "tags": [],
        "id": "f096ba7e",
        "outputId": "100453f2-ce18-4fee-fc19-757ccf92b7b2"
      },
      "outputs": [
        {
          "data": {
            "image/png": "[encoded data removed]",
            "text/plain": [
              "<Figure size 1000x800 with 2 Axes>"
            ]
          },
          "metadata": {},
          "output_type": "display_data"
        }
      ],
      "source": [
        "# Select numerical columns\n",
        "numerical_columns = ['Year', 'Selling_Price', 'Present_Price', 'Driven_kms', 'Owner']\n",
        "\n",
        "# Create a DataFrame containing only the numerical columns\n",
        "numerical_df = df[numerical_columns]\n",
        "\n",
        "# Calculate the correlation matrix for numerical columns\n",
        "correlation_matrix = numerical_df.corr()\n",
        "\n",
        "# Create a heatmap\n",
        "plt.figure(figsize=(10, 8))\n",
        "sns.heatmap(correlation_matrix, annot=True, cmap='coolwarm', fmt=\".2f\")\n",
        "plt.title('Correlation Heatmap (Numerical Columns)')\n",
        "plt.show()"
      ]
    },
    {
      "cell_type": "markdown",
      "id": "c384aeff",
      "metadata": {
        "papermill": {
          "duration": 0.016883,
          "end_time": "2024-04-19T16:13:26.439274",
          "exception": false,
          "start_time": "2024-04-19T16:13:26.422391",
          "status": "completed"
        },
        "tags": [],
        "id": "c384aeff"
      },
      "source": [
        "### **Observation**\n",
        "**Strong Positive Correlation:**\n",
        "Selling Price and Present Price have a very strong positive correlation  indicating a nearly perfect linear relationship. This makes sense as present market value likely influences selling price.\n",
        "\n",
        "**Year's Influence:** Year seems weakly negatively correlated with Selling Price, Present Price, and Driven_Kms. Newer cars (lower Year values) tend to have higher selling prices, lower present prices, and lower driven kilometers.\n",
        "\n",
        "**Mileage Matters:** Driven_Kms shows a weak negative correlation with Selling Price and Present Price. Cars with lower mileage (lower Driven_Kms values) tend to sell for more."
      ]
    },
    {
      "cell_type": "markdown",
      "id": "35ba592b",
      "metadata": {
        "papermill": {
          "duration": 0.018185,
          "end_time": "2024-04-19T16:13:29.027495",
          "exception": false,
          "start_time": "2024-04-19T16:13:29.009310",
          "status": "completed"
        },
        "tags": [],
        "id": "35ba592b"
      },
      "source": [
        "-  The plot suggests a negative correlation between Driven_Kms and Selling_Price. Cars with higher driven kilometers tend to sell for less."
      ]
    },
    {
      "cell_type": "code",
      "execution_count": null,
      "id": "5447b12c",
      "metadata": {
        "execution": {
          "iopub.execute_input": "2024-04-19T16:13:29.066660Z",
          "iopub.status.busy": "2024-04-19T16:13:29.066071Z",
          "iopub.status.idle": "2024-04-19T16:13:29.370238Z",
          "shell.execute_reply": "2024-04-19T16:13:29.369019Z"
        },
        "papermill": {
          "duration": 0.326851,
          "end_time": "2024-04-19T16:13:29.372912",
          "exception": false,
          "start_time": "2024-04-19T16:13:29.046061",
          "status": "completed"
        },
        "tags": [],
        "id": "5447b12c",
        "outputId": "1889f713-cd36-4677-c740-d163d3ecfb3d"
      },
      "outputs": [
        {
          "data": {
            "image/png": "[encoded data removed]",
            "text/plain": [
              "<Figure size 1200x800 with 1 Axes>"
            ]
          },
          "metadata": {},
          "output_type": "display_data"
        }
      ],
      "source": [
        "plt.figure(figsize=(12, 8))\n",
        "sns.scatterplot(x='Present_Price', y='Selling_Price', data=df)\n",
        "plt.title('Relationship between Present_Price and Selling_Price')\n",
        "plt.xlabel('Present Price')\n",
        "plt.ylabel('Selling Price')\n",
        "\n",
        "plt.show()"
      ]
    },
    {
      "cell_type": "markdown",
      "id": "bd1b3ff8",
      "metadata": {
        "papermill": {
          "duration": 0.01891,
          "end_time": "2024-04-19T16:13:29.411516",
          "exception": false,
          "start_time": "2024-04-19T16:13:29.392606",
          "status": "completed"
        },
        "tags": [],
        "id": "bd1b3ff8"
      },
      "source": [
        "### **Observation**\n",
        "**Price Match:** The plot reveals a strong positive correlation between Present Price and Selling Price. Cars with a higher present market value tend to sell for more.\n",
        "\n",
        "**Market Influence:** This suggests the present market value heavily influences the final selling price."
      ]
    },
    {
      "cell_type": "code",
      "execution_count": null,
      "id": "1d56169c",
      "metadata": {
        "execution": {
          "iopub.execute_input": "2024-04-19T16:13:31.877206Z",
          "iopub.status.busy": "2024-04-19T16:13:31.875806Z",
          "iopub.status.idle": "2024-04-19T16:13:31.882830Z",
          "shell.execute_reply": "2024-04-19T16:13:31.881987Z"
        },
        "papermill": {
          "duration": 0.034931,
          "end_time": "2024-04-19T16:13:31.885113",
          "exception": false,
          "start_time": "2024-04-19T16:13:31.850182",
          "status": "completed"
        },
        "tags": [],
        "id": "1d56169c",
        "outputId": "8e236337-689c-4db4-c002-36705908b140"
      },
      "outputs": [
        {
          "name": "stdout",
          "output_type": "stream",
          "text": [
            "Fuel_Type\n",
            "Petrol    239\n",
            "Diesel     58\n",
            "CNG         2\n",
            "Name: count, dtype: int64\n"
          ]
        }
      ],
      "source": [
        "print(df['Fuel_Type'].value_counts())"
      ]
    },
    {
      "cell_type": "code",
      "execution_count": null,
      "id": "0802fc18",
      "metadata": {
        "execution": {
          "iopub.execute_input": "2024-04-19T16:13:31.938497Z",
          "iopub.status.busy": "2024-04-19T16:13:31.937632Z",
          "iopub.status.idle": "2024-04-19T16:13:31.944392Z",
          "shell.execute_reply": "2024-04-19T16:13:31.943461Z"
        },
        "papermill": {
          "duration": 0.035875,
          "end_time": "2024-04-19T16:13:31.946760",
          "exception": false,
          "start_time": "2024-04-19T16:13:31.910885",
          "status": "completed"
        },
        "tags": [],
        "id": "0802fc18",
        "outputId": "9967a37c-fd96-4290-e45d-acd1d364d7d8"
      },
      "outputs": [
        {
          "name": "stdout",
          "output_type": "stream",
          "text": [
            "Selling_type\n",
            "Dealer        193\n",
            "Individual    106\n",
            "Name: count, dtype: int64\n"
          ]
        }
      ],
      "source": [
        "print(df['Selling_type'].value_counts())"
      ]
    },
    {
      "cell_type": "code",
      "execution_count": null,
      "id": "94ef7902",
      "metadata": {
        "execution": {
          "iopub.execute_input": "2024-04-19T16:13:32.000188Z",
          "iopub.status.busy": "2024-04-19T16:13:31.999788Z",
          "iopub.status.idle": "2024-04-19T16:13:32.008358Z",
          "shell.execute_reply": "2024-04-19T16:13:32.007013Z"
        },
        "papermill": {
          "duration": 0.039511,
          "end_time": "2024-04-19T16:13:32.011082",
          "exception": false,
          "start_time": "2024-04-19T16:13:31.971571",
          "status": "completed"
        },
        "tags": [],
        "id": "94ef7902",
        "outputId": "ff2285aa-2cd8-4f6a-ad54-ec8b272dc4b5"
      },
      "outputs": [
        {
          "name": "stdout",
          "output_type": "stream",
          "text": [
            "Transmission\n",
            "Manual       260\n",
            "Automatic     39\n",
            "Name: count, dtype: int64\n"
          ]
        }
      ],
      "source": [
        "print(df['Transmission'].value_counts())"
      ]
    },
    {
      "cell_type": "code",
      "execution_count": null,
      "id": "a1d15190",
      "metadata": {
        "execution": {
          "iopub.execute_input": "2024-04-19T16:13:32.117356Z",
          "iopub.status.busy": "2024-04-19T16:13:32.116950Z",
          "iopub.status.idle": "2024-04-19T16:13:32.127501Z",
          "shell.execute_reply": "2024-04-19T16:13:32.126350Z"
        },
        "papermill": {
          "duration": 0.042349,
          "end_time": "2024-04-19T16:13:32.130309",
          "exception": false,
          "start_time": "2024-04-19T16:13:32.087960",
          "status": "completed"
        },
        "tags": [],
        "id": "a1d15190"
      },
      "outputs": [],
      "source": [
        "# encoding \"Fuel_Type\" Column\n",
        "df.replace({'Fuel_Type':{'Petrol':0,'Diesel':1,'CNG':2}},inplace=True)\n",
        "# encoding \"Seller_Type\" Column\n",
        "df.replace({'Selling_type':{'Dealer':0,'Individual':1}},inplace=True)\n",
        "# encoding \"Transmission\" Column\n",
        "df.replace({'Transmission':{'Manual':0,'Automatic':1}},inplace=True)"
      ]
    },
    {
      "cell_type": "code",
      "execution_count": null,
      "id": "c41cc2d2",
      "metadata": {
        "execution": {
          "iopub.execute_input": "2024-04-19T16:13:32.185263Z",
          "iopub.status.busy": "2024-04-19T16:13:32.184819Z",
          "iopub.status.idle": "2024-04-19T16:13:32.199967Z",
          "shell.execute_reply": "2024-04-19T16:13:32.198843Z"
        },
        "papermill": {
          "duration": 0.046787,
          "end_time": "2024-04-19T16:13:32.202876",
          "exception": false,
          "start_time": "2024-04-19T16:13:32.156089",
          "status": "completed"
        },
        "tags": [],
        "id": "c41cc2d2",
        "outputId": "b00beaca-e39f-465d-e241-287f1b403701"
      },
      "outputs": [
        {
          "data": {
            "text/html": [
              "<div>\n",
              "<style scoped>\n",
              "    .dataframe tbody tr th:only-of-type {\n",
              "        vertical-align: middle;\n",
              "    }\n",
              "\n",
              "    .dataframe tbody tr th {\n",
              "        vertical-align: top;\n",
              "    }\n",
              "\n",
              "    .dataframe thead th {\n",
              "        text-align: right;\n",
              "    }\n",
              "</style>\n",
              "<table border=\"1\" class=\"dataframe\">\n",
              "  <thead>\n",
              "    <tr style=\"text-align: right;\">\n",
              "      <th></th>\n",
              "      <th>Car_Name</th>\n",
              "      <th>Year</th>\n",
              "      <th>Selling_Price</th>\n",
              "      <th>Present_Price</th>\n",
              "      <th>Driven_kms</th>\n",
              "      <th>Fuel_Type</th>\n",
              "      <th>Selling_type</th>\n",
              "      <th>Transmission</th>\n",
              "      <th>Owner</th>\n",
              "    </tr>\n",
              "  </thead>\n",
              "  <tbody>\n",
              "    <tr>\n",
              "      <th>0</th>\n",
              "      <td>ritz</td>\n",
              "      <td>2014</td>\n",
              "      <td>3.35</td>\n",
              "      <td>5.59</td>\n",
              "      <td>27000</td>\n",
              "      <td>0</td>\n",
              "      <td>0</td>\n",
              "      <td>0</td>\n",
              "      <td>0</td>\n",
              "    </tr>\n",
              "    <tr>\n",
              "      <th>1</th>\n",
              "      <td>sx4</td>\n",
              "      <td>2013</td>\n",
              "      <td>4.75</td>\n",
              "      <td>9.54</td>\n",
              "      <td>43000</td>\n",
              "      <td>1</td>\n",
              "      <td>0</td>\n",
              "      <td>0</td>\n",
              "      <td>0</td>\n",
              "    </tr>\n",
              "    <tr>\n",
              "      <th>2</th>\n",
              "      <td>ciaz</td>\n",
              "      <td>2017</td>\n",
              "      <td>7.25</td>\n",
              "      <td>9.85</td>\n",
              "      <td>6900</td>\n",
              "      <td>0</td>\n",
              "      <td>0</td>\n",
              "      <td>0</td>\n",
              "      <td>0</td>\n",
              "    </tr>\n",
              "    <tr>\n",
              "      <th>3</th>\n",
              "      <td>wagon r</td>\n",
              "      <td>2011</td>\n",
              "      <td>2.85</td>\n",
              "      <td>4.15</td>\n",
              "      <td>5200</td>\n",
              "      <td>0</td>\n",
              "      <td>0</td>\n",
              "      <td>0</td>\n",
              "      <td>0</td>\n",
              "    </tr>\n",
              "    <tr>\n",
              "      <th>4</th>\n",
              "      <td>swift</td>\n",
              "      <td>2014</td>\n",
              "      <td>4.60</td>\n",
              "      <td>6.87</td>\n",
              "      <td>42450</td>\n",
              "      <td>1</td>\n",
              "      <td>0</td>\n",
              "      <td>0</td>\n",
              "      <td>0</td>\n",
              "    </tr>\n",
              "  </tbody>\n",
              "</table>\n",
              "</div>"
            ],
            "text/plain": [
              "  Car_Name  Year  Selling_Price  Present_Price  Driven_kms  Fuel_Type  \\\n",
              "0     ritz  2014           3.35           5.59       27000          0   \n",
              "1      sx4  2013           4.75           9.54       43000          1   \n",
              "2     ciaz  2017           7.25           9.85        6900          0   \n",
              "3  wagon r  2011           2.85           4.15        5200          0   \n",
              "4    swift  2014           4.60           6.87       42450          1   \n",
              "\n",
              "   Selling_type  Transmission  Owner  \n",
              "0             0             0      0  \n",
              "1             0             0      0  \n",
              "2             0             0      0  \n",
              "3             0             0      0  \n",
              "4             0             0      0  "
            ]
          },
          "execution_count": 25,
          "metadata": {},
          "output_type": "execute_result"
        }
      ],
      "source": [
        "df.head()"
      ]
    },
    {
      "cell_type": "markdown",
      "id": "15cda6b9",
      "metadata": {
        "papermill": {
          "duration": 0.025516,
          "end_time": "2024-04-19T16:13:32.253112",
          "exception": false,
          "start_time": "2024-04-19T16:13:32.227596",
          "status": "completed"
        },
        "tags": [],
        "id": "15cda6b9"
      },
      "source": [
        "\n",
        "# <span style=\"color: #000000;\">Step 5|</span> <span style=\"color: orange; font-weight: bold;\"> Prediction</span>"
      ]
    },
    {
      "cell_type": "code",
      "execution_count": null,
      "id": "0b8fcada",
      "metadata": {
        "execution": {
          "iopub.execute_input": "2024-04-19T16:13:32.365348Z",
          "iopub.status.busy": "2024-04-19T16:13:32.364844Z",
          "iopub.status.idle": "2024-04-19T16:13:32.373084Z",
          "shell.execute_reply": "2024-04-19T16:13:32.371462Z"
        },
        "papermill": {
          "duration": 0.039578,
          "end_time": "2024-04-19T16:13:32.376031",
          "exception": false,
          "start_time": "2024-04-19T16:13:32.336453",
          "status": "completed"
        },
        "tags": [],
        "id": "0b8fcada"
      },
      "outputs": [],
      "source": [
        "X = df.drop(['Car_Name','Selling_Price'],axis=1)\n",
        "Y = df['Selling_Price']"
      ]
    },
    {
      "cell_type": "markdown",
      "source": [],
      "metadata": {
        "id": "EQKmCwzo3N7G"
      },
      "id": "EQKmCwzo3N7G"
    },
    {
      "cell_type": "code",
      "execution_count": null,
      "id": "6bd9418a",
      "metadata": {
        "execution": {
          "iopub.execute_input": "2024-04-19T16:13:32.430392Z",
          "iopub.status.busy": "2024-04-19T16:13:32.429944Z",
          "iopub.status.idle": "2024-04-19T16:13:32.446971Z",
          "shell.execute_reply": "2024-04-19T16:13:32.445654Z"
        },
        "papermill": {
          "duration": 0.047408,
          "end_time": "2024-04-19T16:13:32.449627",
          "exception": false,
          "start_time": "2024-04-19T16:13:32.402219",
          "status": "completed"
        },
        "tags": [],
        "id": "6bd9418a",
        "outputId": "a12f59d6-de7d-41a7-cd38-b9d34d540af7"
      },
      "outputs": [
        {
          "data": {
            "text/html": [
              "<div>\n",
              "<style scoped>\n",
              "    .dataframe tbody tr th:only-of-type {\n",
              "        vertical-align: middle;\n",
              "    }\n",
              "\n",
              "    .dataframe tbody tr th {\n",
              "        vertical-align: top;\n",
              "    }\n",
              "\n",
              "    .dataframe thead th {\n",
              "        text-align: right;\n",
              "    }\n",
              "</style>\n",
              "<table border=\"1\" class=\"dataframe\">\n",
              "  <thead>\n",
              "    <tr style=\"text-align: right;\">\n",
              "      <th></th>\n",
              "      <th>Year</th>\n",
              "      <th>Present_Price</th>\n",
              "      <th>Driven_kms</th>\n",
              "      <th>Fuel_Type</th>\n",
              "      <th>Selling_type</th>\n",
              "      <th>Transmission</th>\n",
              "      <th>Owner</th>\n",
              "    </tr>\n",
              "  </thead>\n",
              "  <tbody>\n",
              "    <tr>\n",
              "      <th>0</th>\n",
              "      <td>2014</td>\n",
              "      <td>5.59</td>\n",
              "      <td>27000</td>\n",
              "      <td>0</td>\n",
              "      <td>0</td>\n",
              "      <td>0</td>\n",
              "      <td>0</td>\n",
              "    </tr>\n",
              "    <tr>\n",
              "      <th>1</th>\n",
              "      <td>2013</td>\n",
              "      <td>9.54</td>\n",
              "      <td>43000</td>\n",
              "      <td>1</td>\n",
              "      <td>0</td>\n",
              "      <td>0</td>\n",
              "      <td>0</td>\n",
              "    </tr>\n",
              "    <tr>\n",
              "      <th>2</th>\n",
              "      <td>2017</td>\n",
              "      <td>9.85</td>\n",
              "      <td>6900</td>\n",
              "      <td>0</td>\n",
              "      <td>0</td>\n",
              "      <td>0</td>\n",
              "      <td>0</td>\n",
              "    </tr>\n",
              "    <tr>\n",
              "      <th>3</th>\n",
              "      <td>2011</td>\n",
              "      <td>4.15</td>\n",
              "      <td>5200</td>\n",
              "      <td>0</td>\n",
              "      <td>0</td>\n",
              "      <td>0</td>\n",
              "      <td>0</td>\n",
              "    </tr>\n",
              "    <tr>\n",
              "      <th>4</th>\n",
              "      <td>2014</td>\n",
              "      <td>6.87</td>\n",
              "      <td>42450</td>\n",
              "      <td>1</td>\n",
              "      <td>0</td>\n",
              "      <td>0</td>\n",
              "      <td>0</td>\n",
              "    </tr>\n",
              "    <tr>\n",
              "      <th>...</th>\n",
              "      <td>...</td>\n",
              "      <td>...</td>\n",
              "      <td>...</td>\n",
              "      <td>...</td>\n",
              "      <td>...</td>\n",
              "      <td>...</td>\n",
              "      <td>...</td>\n",
              "    </tr>\n",
              "    <tr>\n",
              "      <th>296</th>\n",
              "      <td>2016</td>\n",
              "      <td>11.60</td>\n",
              "      <td>33988</td>\n",
              "      <td>1</td>\n",
              "      <td>0</td>\n",
              "      <td>0</td>\n",
              "      <td>0</td>\n",
              "    </tr>\n",
              "    <tr>\n",
              "      <th>297</th>\n",
              "      <td>2015</td>\n",
              "      <td>5.90</td>\n",
              "      <td>60000</td>\n",
              "      <td>0</td>\n",
              "      <td>0</td>\n",
              "      <td>0</td>\n",
              "      <td>0</td>\n",
              "    </tr>\n",
              "    <tr>\n",
              "      <th>298</th>\n",
              "      <td>2009</td>\n",
              "      <td>11.00</td>\n",
              "      <td>87934</td>\n",
              "      <td>0</td>\n",
              "      <td>0</td>\n",
              "      <td>0</td>\n",
              "      <td>0</td>\n",
              "    </tr>\n",
              "    <tr>\n",
              "      <th>299</th>\n",
              "      <td>2017</td>\n",
              "      <td>12.50</td>\n",
              "      <td>9000</td>\n",
              "      <td>1</td>\n",
              "      <td>0</td>\n",
              "      <td>0</td>\n",
              "      <td>0</td>\n",
              "    </tr>\n",
              "    <tr>\n",
              "      <th>300</th>\n",
              "      <td>2016</td>\n",
              "      <td>5.90</td>\n",
              "      <td>5464</td>\n",
              "      <td>0</td>\n",
              "      <td>0</td>\n",
              "      <td>0</td>\n",
              "      <td>0</td>\n",
              "    </tr>\n",
              "  </tbody>\n",
              "</table>\n",
              "<p>299 rows × 7 columns</p>\n",
              "</div>"
            ],
            "text/plain": [
              "     Year  Present_Price  Driven_kms  Fuel_Type  Selling_type  Transmission  \\\n",
              "0    2014           5.59       27000          0             0             0   \n",
              "1    2013           9.54       43000          1             0             0   \n",
              "2    2017           9.85        6900          0             0             0   \n",
              "3    2011           4.15        5200          0             0             0   \n",
              "4    2014           6.87       42450          1             0             0   \n",
              "..    ...            ...         ...        ...           ...           ...   \n",
              "296  2016          11.60       33988          1             0             0   \n",
              "297  2015           5.90       60000          0             0             0   \n",
              "298  2009          11.00       87934          0             0             0   \n",
              "299  2017          12.50        9000          1             0             0   \n",
              "300  2016           5.90        5464          0             0             0   \n",
              "\n",
              "     Owner  \n",
              "0        0  \n",
              "1        0  \n",
              "2        0  \n",
              "3        0  \n",
              "4        0  \n",
              "..     ...  \n",
              "296      0  \n",
              "297      0  \n",
              "298      0  \n",
              "299      0  \n",
              "300      0  \n",
              "\n",
              "[299 rows x 7 columns]"
            ]
          },
          "execution_count": 27,
          "metadata": {},
          "output_type": "execute_result"
        }
      ],
      "source": [
        "X"
      ]
    },
    {
      "cell_type": "code",
      "execution_count": null,
      "id": "b7eb4f2d",
      "metadata": {
        "execution": {
          "iopub.execute_input": "2024-04-19T16:13:32.504301Z",
          "iopub.status.busy": "2024-04-19T16:13:32.503835Z",
          "iopub.status.idle": "2024-04-19T16:13:32.515824Z",
          "shell.execute_reply": "2024-04-19T16:13:32.514497Z"
        },
        "papermill": {
          "duration": 0.043018,
          "end_time": "2024-04-19T16:13:32.519057",
          "exception": false,
          "start_time": "2024-04-19T16:13:32.476039",
          "status": "completed"
        },
        "tags": [],
        "id": "b7eb4f2d",
        "outputId": "21b93648-6090-4fd6-8e45-5d5721b8e7ef"
      },
      "outputs": [
        {
          "data": {
            "text/plain": [
              "0       3.35\n",
              "1       4.75\n",
              "2       7.25\n",
              "3       2.85\n",
              "4       4.60\n",
              "       ...  \n",
              "296     9.50\n",
              "297     4.00\n",
              "298     3.35\n",
              "299    11.50\n",
              "300     5.30\n",
              "Name: Selling_Price, Length: 299, dtype: float64"
            ]
          },
          "execution_count": 28,
          "metadata": {},
          "output_type": "execute_result"
        }
      ],
      "source": [
        "Y"
      ]
    },
    {
      "cell_type": "code",
      "execution_count": null,
      "id": "1595973b",
      "metadata": {
        "execution": {
          "iopub.execute_input": "2024-04-19T16:13:32.627016Z",
          "iopub.status.busy": "2024-04-19T16:13:32.626573Z",
          "iopub.status.idle": "2024-04-19T16:13:32.635449Z",
          "shell.execute_reply": "2024-04-19T16:13:32.634417Z"
        },
        "papermill": {
          "duration": 0.038499,
          "end_time": "2024-04-19T16:13:32.637976",
          "exception": false,
          "start_time": "2024-04-19T16:13:32.599477",
          "status": "completed"
        },
        "tags": [],
        "id": "1595973b"
      },
      "outputs": [],
      "source": [
        "# Split the data into training and testing sets\n",
        "X_train, X_test, y_train, y_test = train_test_split(X, Y, test_size=0.2, random_state=42)"
      ]
    },
    {
      "cell_type": "code",
      "execution_count": null,
      "id": "e426bc23",
      "metadata": {
        "execution": {
          "iopub.execute_input": "2024-04-19T16:13:32.745355Z",
          "iopub.status.busy": "2024-04-19T16:13:32.744403Z",
          "iopub.status.idle": "2024-04-19T16:13:32.776527Z",
          "shell.execute_reply": "2024-04-19T16:13:32.775353Z"
        },
        "papermill": {
          "duration": 0.06425,
          "end_time": "2024-04-19T16:13:32.778995",
          "exception": false,
          "start_time": "2024-04-19T16:13:32.714745",
          "status": "completed"
        },
        "tags": [],
        "id": "e426bc23",
        "outputId": "1cf0b07a-fba4-4e43-8d96-a97a34c258bb"
      },
      "outputs": [
        {
          "data": {
            "text/html": [
              "<style>#sk-container-id-1 {color: black;background-color: white;}#sk-container-id-1 pre{padding: 0;}#sk-container-id-1 div.sk-toggleable {background-color: white;}#sk-container-id-1 label.sk-toggleable__label {cursor: pointer;display: block;width: 100%;margin-bottom: 0;padding: 0.3em;box-sizing: border-box;text-align: center;}#sk-container-id-1 label.sk-toggleable__label-arrow:before {content: \"▸\";float: left;margin-right: 0.25em;color: #696969;}#sk-container-id-1 label.sk-toggleable__label-arrow:hover:before {color: black;}#sk-container-id-1 div.sk-estimator:hover label.sk-toggleable__label-arrow:before {color: black;}#sk-container-id-1 div.sk-toggleable__content {max-height: 0;max-width: 0;overflow: hidden;text-align: left;background-color: #f0f8ff;}#sk-container-id-1 div.sk-toggleable__content pre {margin: 0.2em;color: black;border-radius: 0.25em;background-color: #f0f8ff;}#sk-container-id-1 input.sk-toggleable__control:checked~div.sk-toggleable__content {max-height: 200px;max-width: 100%;overflow: auto;}#sk-container-id-1 input.sk-toggleable__control:checked~label.sk-toggleable__label-arrow:before {content: \"▾\";}#sk-container-id-1 div.sk-estimator input.sk-toggleable__control:checked~label.sk-toggleable__label {background-color: #d4ebff;}#sk-container-id-1 div.sk-label input.sk-toggleable__control:checked~label.sk-toggleable__label {background-color: #d4ebff;}#sk-container-id-1 input.sk-hidden--visually {border: 0;clip: rect(1px 1px 1px 1px);clip: rect(1px, 1px, 1px, 1px);height: 1px;margin: -1px;overflow: hidden;padding: 0;position: absolute;width: 1px;}#sk-container-id-1 div.sk-estimator {font-family: monospace;background-color: #f0f8ff;border: 1px dotted black;border-radius: 0.25em;box-sizing: border-box;margin-bottom: 0.5em;}#sk-container-id-1 div.sk-estimator:hover {background-color: #d4ebff;}#sk-container-id-1 div.sk-parallel-item::after {content: \"\";width: 100%;border-bottom: 1px solid gray;flex-grow: 1;}#sk-container-id-1 div.sk-label:hover label.sk-toggleable__label {background-color: #d4ebff;}#sk-container-id-1 div.sk-serial::before {content: \"\";position: absolute;border-left: 1px solid gray;box-sizing: border-box;top: 0;bottom: 0;left: 50%;z-index: 0;}#sk-container-id-1 div.sk-serial {display: flex;flex-direction: column;align-items: center;background-color: white;padding-right: 0.2em;padding-left: 0.2em;position: relative;}#sk-container-id-1 div.sk-item {position: relative;z-index: 1;}#sk-container-id-1 div.sk-parallel {display: flex;align-items: stretch;justify-content: center;background-color: white;position: relative;}#sk-container-id-1 div.sk-item::before, #sk-container-id-1 div.sk-parallel-item::before {content: \"\";position: absolute;border-left: 1px solid gray;box-sizing: border-box;top: 0;bottom: 0;left: 50%;z-index: -1;}#sk-container-id-1 div.sk-parallel-item {display: flex;flex-direction: column;z-index: 1;position: relative;background-color: white;}#sk-container-id-1 div.sk-parallel-item:first-child::after {align-self: flex-end;width: 50%;}#sk-container-id-1 div.sk-parallel-item:last-child::after {align-self: flex-start;width: 50%;}#sk-container-id-1 div.sk-parallel-item:only-child::after {width: 0;}#sk-container-id-1 div.sk-dashed-wrapped {border: 1px dashed gray;margin: 0 0.4em 0.5em 0.4em;box-sizing: border-box;padding-bottom: 0.4em;background-color: white;}#sk-container-id-1 div.sk-label label {font-family: monospace;font-weight: bold;display: inline-block;line-height: 1.2em;}#sk-container-id-1 div.sk-label-container {text-align: center;}#sk-container-id-1 div.sk-container {/* jupyter's `normalize.less` sets `[hidden] { display: none; }` but bootstrap.min.css set `[hidden] { display: none !important; }` so we also need the `!important` here to be able to override the default hidden behavior on the sphinx rendered scikit-learn.org. See: https://github.com/scikit-learn/scikit-learn/issues/21755 */display: inline-block !important;position: relative;}#sk-container-id-1 div.sk-text-repr-fallback {display: none;}</style><div id=\"sk-container-id-1\" class=\"sk-top-container\"><div class=\"sk-text-repr-fallback\"><pre>LinearRegression()</pre><b>In a Jupyter environment, please rerun this cell to show the HTML representation or trust the notebook. <br />On GitHub, the HTML representation is unable to render, please try loading this page with nbviewer.org.</b></div><div class=\"sk-container\" hidden><div class=\"sk-item\"><div class=\"sk-estimator sk-toggleable\"><input class=\"sk-toggleable__control sk-hidden--visually\" id=\"sk-estimator-id-1\" type=\"checkbox\" checked><label for=\"sk-estimator-id-1\" class=\"sk-toggleable__label sk-toggleable__label-arrow\">LinearRegression</label><div class=\"sk-toggleable__content\"><pre>LinearRegression()</pre></div></div></div></div></div>"
            ],
            "text/plain": [
              "LinearRegression()"
            ]
          },
          "execution_count": 30,
          "metadata": {},
          "output_type": "execute_result"
        }
      ],
      "source": [
        "# Train the linear regression model\n",
        "model = LinearRegression()\n",
        "model.fit(X_train, y_train)"
      ]
    },
    {
      "cell_type": "code",
      "execution_count": null,
      "id": "014d66aa",
      "metadata": {
        "execution": {
          "iopub.execute_input": "2024-04-19T16:13:32.879727Z",
          "iopub.status.busy": "2024-04-19T16:13:32.879318Z",
          "iopub.status.idle": "2024-04-19T16:13:32.889457Z",
          "shell.execute_reply": "2024-04-19T16:13:32.888425Z"
        },
        "papermill": {
          "duration": 0.038493,
          "end_time": "2024-04-19T16:13:32.891831",
          "exception": false,
          "start_time": "2024-04-19T16:13:32.853338",
          "status": "completed"
        },
        "tags": [],
        "id": "014d66aa",
        "outputId": "c418f84f-1a2d-4131-ea15-2fc22ff79d3f"
      },
      "outputs": [
        {
          "name": "stdout",
          "output_type": "stream",
          "text": [
            "Mean Squared Error: 6.675444100493416\n",
            "R-squared: 0.7409934356413092\n"
          ]
        }
      ],
      "source": [
        "# Evaluate the model\n",
        "y_pred = model.predict(X_test)\n",
        "mse = mean_squared_error(y_test, y_pred)\n",
        "r2 = r2_score(y_test, y_pred)\n",
        "print('Mean Squared Error:', mse)\n",
        "print('R-squared:', r2)"
      ]
    },
    {
      "cell_type": "code",
      "execution_count": null,
      "id": "7788ce03",
      "metadata": {
        "execution": {
          "iopub.execute_input": "2024-04-19T16:13:32.991301Z",
          "iopub.status.busy": "2024-04-19T16:13:32.990133Z",
          "iopub.status.idle": "2024-04-19T16:13:32.997395Z",
          "shell.execute_reply": "2024-04-19T16:13:32.996203Z"
        },
        "papermill": {
          "duration": 0.036159,
          "end_time": "2024-04-19T16:13:33.000267",
          "exception": false,
          "start_time": "2024-04-19T16:13:32.964108",
          "status": "completed"
        },
        "tags": [],
        "id": "7788ce03",
        "outputId": "6ecfba15-009c-4948-b977-8f9364675f03"
      },
      "outputs": [
        {
          "name": "stdout",
          "output_type": "stream",
          "text": [
            "Predicted Selling Price: 8829.49338250246\n"
          ]
        }
      ],
      "source": [
        "# Make predictions\n",
        "new_car = [[2022, 20000, 0, 1, 1, 0, 0]]  # Example new car data\n",
        "predicted_price = model.predict(new_car)\n",
        "print('Predicted Selling Price:', predicted_price[0])"
      ]
    },
    {
      "cell_type": "code",
      "execution_count": null,
      "id": "1e0e40b7",
      "metadata": {
        "papermill": {
          "duration": 0.027275,
          "end_time": "2024-04-19T16:13:33.105235",
          "exception": false,
          "start_time": "2024-04-19T16:13:33.077960",
          "status": "completed"
        },
        "tags": [],
        "id": "1e0e40b7"
      },
      "outputs": [],
      "source": []
    }
  ],
  "metadata": {
    "kaggle": {
      "accelerator": "none",
      "dataSources": [
        {
          "datasetId": 2491159,
          "sourceId": 4226692,
          "sourceType": "datasetVersion"
        }
      ],
      "dockerImageVersionId": 30698,
      "isGpuEnabled": false,
      "isInternetEnabled": true,
      "language": "python",
      "sourceType": "notebook"
    },
    "kernelspec": {
      "display_name": "Python 3",
      "language": "python",
      "name": "python3"
    },
    "language_info": {
      "codemirror_mode": {
        "name": "ipython",
        "version": 3
      },
      "file_extension": ".py",
      "mimetype": "text/x-python",
      "name": "python",
      "nbconvert_exporter": "python",
      "pygments_lexer": "ipython3",
      "version": "3.10.13"
    },
    "papermill": {
      "default_parameters": {},
      "duration": 16.323397,
      "end_time": "2024-04-19T16:13:34.055802",
      "environment_variables": {},
      "exception": null,
      "input_path": "__notebook__.ipynb",
      "output_path": "__notebook__.ipynb",
      "parameters": {},
      "start_time": "2024-04-19T16:13:17.732405",
      "version": "2.5.0"
    },
    "colab": {
      "provenance": []
    }
  },
  "nbformat": 4,
  "nbformat_minor": 5
}